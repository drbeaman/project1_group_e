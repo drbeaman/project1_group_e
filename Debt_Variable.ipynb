{
 "cells": [
  {
   "cell_type": "code",
   "execution_count": 71,
   "metadata": {},
   "outputs": [],
   "source": [
    "import pandas as pd\n",
    "import numpy as np\n",
    "import matplotlib.pyplot as plt\n",
    "import csv\n",
    "import os\n",
    "import seaborn\n",
    "import plotly\n",
    "import plotly.plotly as py\n",
    "import plotly.graph_objs as go\n",
    "import scipy.stats as stats\n",
    "import plotly.io as pio\n",
    "from plotly.tools import FigureFactory as FF\n",
    "from mpl_toolkits.basemap import Basemap as Basemap\n",
    "from matplotlib.colors import rgb2hex\n",
    "from matplotlib.patches import Polygon\n",
    "plotly.tools.set_credentials_file(username='ThisIsDNa', api_key='DUwIm8Ia6mwSF2mqa9GC')"
   ]
  },
  {
   "cell_type": "code",
   "execution_count": 72,
   "metadata": {},
   "outputs": [],
   "source": [
    "file_2016 = \"../Desktop/2016_state_debt_revenue.csv\"\n",
    "df_2016 = pd.read_csv(file_2016)\n",
    "df_2016.drop(['General revenue', 'Intergovernmental revenue', 'Taxes', 'General sales',\n",
    "         'Selective sales', 'License taxes', 'Individual income tax', 'Corporate income tax',\n",
    "         'Natural resources', 'Parks and recreation', 'Interest on general debt',\n",
    "         'Other and unallocable', 'Utility expenditure', 'Liquor stores expenditure', \n",
    "         'Insurance trust expenditure', 'Cash and security holdings', 'Other taxes',\n",
    "         'Current charge', 'Miscellaneous general revenue', 'Utility revenue', 'Liquor stores revenue',\n",
    "         'Insurance trust revenue', 'Total expenditure', 'Intergovernmental expenditure',\n",
    "         'General expenditure','Education','Public welfare', 'Hospitals', 'Health', 'Highways', \n",
    "         'Police protection', 'Correction', 'Governmental administration', 'Direct expenditure',\n",
    "         'Current operation', 'Capital outlay', 'Insurance benefits and repayments', 'Assistance and subsidies',\n",
    "         'Interest on debt', 'Exhibit: Salaries and wages', 'Total expenditure.1', 'Intergovernmental expenditure.1',\n",
    "         'Direct expenditure.1', 'General expenditure, by function:', 'Unnamed: 2', 'Unnamed: 12', 'Unnamed: 15', \n",
    "         'Unnamed: 19', 'Unnamed: 29', 'Unnamed: 34', 'Unnamed: 41', 'Unnamed: 47', 'Unnamed: 50', 'Unnamed: 54', \n",
    "         'Unnamed: 56', '(Thousands of Dollars)'\n",
    "        ], axis=1, inplace=True)\n",
    "\n",
    "df_2016.rename(index=str, columns={'Total revenue': 'Revenue 2016',\n",
    "                              'Debt at end of fiscal year': 'Debt 2016'}, inplace=True)\n",
    "\n",
    "df_2016.to_csv('2016_state_debt_revenue_alter.csv', sep=',', encoding='utf-8')\n",
    "file_2016 = \"../Desktop/2016_state_debt_revenue_alter.csv\"\n",
    "df_2016 = pd.read_csv(file_2016)\n",
    "#df_2016.head()"
   ]
  },
  {
   "cell_type": "code",
   "execution_count": 73,
   "metadata": {},
   "outputs": [],
   "source": [
    "file_2015 = \"../Desktop/2015_state_debt_revenue.csv\"\n",
    "df_2015 = pd.read_csv(file_2015)\n",
    "df_2015.drop(['General revenue', 'Intergovernmental revenue', 'Taxes', 'General sales',\n",
    "         'Selective sales', 'License taxes', 'Individual income tax', 'Corporate income tax',\n",
    "         'Natural resources', 'Parks and recreation', 'Interest on general debt',\n",
    "         'Other and unallocable', 'Utility expenditure', 'Liquor stores expenditure', \n",
    "         'Insurance trust expenditure', 'Cash and security holdings', 'Other taxes',\n",
    "         'Current charge', 'Miscellaneous general revenue', 'Utility revenue', 'Liquor stores revenue',\n",
    "         'Insurance trust revenue', 'Total expenditure', 'Intergovernmental expenditure',\n",
    "         'General expenditure','Education','Public welfare', 'Hospitals', 'Health', 'Highways', \n",
    "         'Police protection', 'Correction', 'Governmental administration', 'Direct expenditure',\n",
    "         'Current operation', 'Capital outlay', 'Insurance benefits and repayments', 'Assistance and subsidies',\n",
    "         'Interest on debt', 'Exhibit: Salaries and wages', 'Total expenditure.1', 'Intergovernmental expenditure.1',\n",
    "         'Direct expenditure.1', 'General expenditure, by function:', 'Unnamed: 2', 'Unnamed: 12', 'Unnamed: 15', \n",
    "         'Unnamed: 19', 'Unnamed: 29', 'Unnamed: 34', 'Unnamed: 41', 'Unnamed: 47', 'Unnamed: 50', 'Unnamed: 54', \n",
    "         'Unnamed: 56'\n",
    "        ], axis=1, inplace=True)\n",
    "df_2015.rename(index=str, columns={'(Thousands of Dollars)': 'State',\n",
    "                              'Total revenue': 'Revenue 2015',\n",
    "                              'Debt at end of fiscal year': 'Debt 2015'}, inplace=True)\n",
    "\n",
    "new_col = ['', 'AL', 'AK', 'AZ', 'AR', 'CA', 'CO', 'CT', 'DE', 'FL', 'GA',\n",
    "           'HI', 'ID', 'IL', 'IN', 'IA', 'KS', 'KY',\n",
    "           'LA', 'ME', 'MD', 'MA', 'MI', 'MN', 'MS', 'MO', 'MT', 'NE',\n",
    "           'NV', 'NH', 'NJ', 'NM', 'NY', 'NC', 'ND', 'OH', 'OK',\n",
    "           'OR', 'PA', 'RI', 'SC', 'SD', 'TN', 'TX', 'UT', 'VT', 'VA',\n",
    "           'WA', 'WV', 'WI', 'WY']\n",
    "\n",
    "df_2015.insert(0, 'code', new_col)\n",
    "df_2015.to_csv('2015_state_debt_revenue_alter.csv', sep=',', encoding='utf-8')\n",
    "file_2015 = \"../Desktop/2015_state_debt_revenue_alter.csv\"\n",
    "df_2015 = pd.read_csv(file_2015)\n",
    "#df_2015.head()"
   ]
  },
  {
   "cell_type": "code",
   "execution_count": 74,
   "metadata": {},
   "outputs": [],
   "source": [
    "df = pd.merge(df_2015, df_2016)\n",
    "df.head()\n",
    "df.drop(['Unnamed: 0'], axis=1, inplace=True)\n",
    "df.to_csv('2015_2016_state_debt_revenue.csv', sep=',', encoding='utf-8')\n",
    "file = \"../Desktop/2015_2016_state_debt_revenue.csv\"\n",
    "\n",
    "#Translate Thousands into Ones\n",
    "df.loc[:,'Revenue 2015']*= 1000\n",
    "df.loc[:,'Debt 2015'] *= 1000\n",
    "df.loc[:,'Revenue 2016'] *= 1000\n",
    "df.loc[:,'Debt 2016'] *= 1000\n",
    "\n",
    "#Translate Ones into Billions\n",
    "df.loc[:,'Revenue 2015']/= 1000000000\n",
    "df.loc[:,'Debt 2015'] /= 1000000000\n",
    "df.loc[:,'Revenue 2016'] /= 1000000000\n",
    "df.loc[:,'Debt 2016'] /= 1000000000\n",
    "\n",
    "df = df.iloc[1:]\n",
    "#df.head()"
   ]
  },
  {
   "cell_type": "code",
   "execution_count": 75,
   "metadata": {},
   "outputs": [
    {
     "name": "stdout",
     "output_type": "stream",
     "text": [
      "High five! You successfully sent some data to your account on plotly. View your plot in your browser at https://plot.ly/~ThisIsDNa/0 or inside your plot.ly account where it is named 'd3-cloropleth-map'\n"
     ]
    }
   ],
   "source": [
    "for col in df.columns:\n",
    "        df[col] = df[col].astype(str)\n",
    "        \n",
    "df['text'] = df['State'] + '<br>' +\\\n",
    "    ' 2015 Debt ' + df['Debt 2015'] +\\\n",
    "    ' 2016 Debt ' + df['Debt 2016']\n",
    "\n",
    "data = [ dict(\n",
    "                type='choropleth',\n",
    "                colorscale = 'Reds',\n",
    "                reversescale = True,\n",
    "                autocolorscale = False,\n",
    "                locations = df['code'],\n",
    "                z = df['Debt 2015'].astype(float),\n",
    "                locationmode = 'USA-states',\n",
    "                text = df['text'],\n",
    "                marker = dict(\n",
    "                        line = dict (\n",
    "                        color = 'rgb(255,255,255)',\n",
    "                        width = 2) ),\n",
    "                colorbar = dict(\n",
    "                title = 'Billions USD'\n",
    "                )\n",
    "                )]\n",
    "\n",
    "layout = dict(\n",
    "        title = '2015 US Debt by State',\n",
    "        geo = dict(\n",
    "            scope='usa',\n",
    "            projection=dict( type='albers usa' ),\n",
    "            showlakes = True,\n",
    "            lakecolor = 'rgb(255, 255, 255)'),\n",
    "             )\n",
    "\n",
    "\n",
    "fig = dict( data=data, layout=layout )\n",
    "py.iplot( data, filename='d3-cloropleth-map' )\n",
    "pio.write_image(fig, 'Images/2015_US_State_Debt.png')"
   ]
  },
  {
   "cell_type": "code",
   "execution_count": 76,
   "metadata": {},
   "outputs": [],
   "source": [
    "states = []\n",
    "revenue_2015 = []\n",
    "revenue_2016 = []\n",
    "debt_2015 = []\n",
    "debt_2016 = []\n",
    "\n",
    "with open(file, 'r') as csvfile:\n",
    "    csvreader = csv.reader(csvfile)\n",
    "    next(csvreader)\n",
    "    next(csvreader)\n",
    "    for row in csvreader:\n",
    "        states.append(row[2])\n",
    "        revenue_2015.append(row[3])\n",
    "        debt_2015.append(row[4])\n",
    "        revenue_2016.append(row[5])\n",
    "        debt_2016.append(row[6])"
   ]
  },
  {
   "cell_type": "code",
   "execution_count": 77,
   "metadata": {},
   "outputs": [],
   "source": [
    "#Grab Mean of Debt 2015 and Debt 2016\n",
    "\n",
    "float_debt_2015 = list(map(float, debt_2015))\n",
    "float_debt_2016 = list(map(float, debt_2016))\n",
    "float_revenue_2015 = list(map(float, revenue_2015))\n",
    "float_revenue_2016 = list(map(float, revenue_2016))\n",
    "\n",
    "mean_debt_2015 = np.mean(float_debt_2015)\n",
    "mean_debt_2016 = np.mean(float_debt_2016)\n",
    "mean_revenue_2015 = list(map(float, float_revenue_2015))\n",
    "mean_revenue_2016 = list(map(float, float_revenue_2016))"
   ]
  },
  {
   "cell_type": "code",
   "execution_count": 78,
   "metadata": {},
   "outputs": [
    {
     "data": {
      "text/html": [
       "<iframe id=\"igraph\" scrolling=\"no\" style=\"border:none;\" seamless=\"seamless\" src=\"https://plot.ly/~ThisIsDNa/2.embed\" height=\"110px\" width=\"100%\"></iframe>"
      ],
      "text/plain": [
       "<plotly.tools.PlotlyDisplay object>"
      ]
     },
     "execution_count": 78,
     "metadata": {},
     "output_type": "execute_result"
    }
   ],
   "source": [
    "twosample_results = stats.ttest_ind(float_debt_2015, float_debt_2016, equal_var=False)\n",
    "matrix_twosample = [\n",
    "    ['', 'Test Statistic', 'p-value'],\n",
    "    ['Sample Data', twosample_results[0], twosample_results[1]]\n",
    "]\n",
    "\n",
    "twosample_table = plotly.figure_factory.create_table(matrix_twosample, index=True)\n",
    "py.iplot(twosample_table, filename='twosample-table')"
   ]
  },
  {
   "cell_type": "code",
   "execution_count": 79,
   "metadata": {},
   "outputs": [
    {
     "data": {
      "text/plain": [
       "<matplotlib.legend.Legend at 0x1a1936c9b0>"
      ]
     },
     "execution_count": 79,
     "metadata": {},
     "output_type": "execute_result"
    },
    {
     "data": {
      "image/png": "[encoded data removed]",
      "text/plain": [
       "<Figure size 432x288 with 1 Axes>"
      ]
     },
     "metadata": {
      "needs_background": "light"
     },
     "output_type": "display_data"
    }
   ],
   "source": [
    "plt.subplot(2, 1, 1)\n",
    "plt.scatter(range(len(float_debt_2015)), float_debt_2015, label=\"Debt 2015\")\n",
    "plt.scatter(range(len(float_debt_2016)), float_debt_2016, label=\"Debt 2016\")\n",
    "plt.legend()"
   ]
  },
  {
   "cell_type": "code",
   "execution_count": 80,
   "metadata": {},
   "outputs": [
    {
     "data": {
      "text/html": [
       "<iframe id=\"igraph\" scrolling=\"no\" style=\"border:none;\" seamless=\"seamless\" src=\"https://plot.ly/~ThisIsDNa/4.embed\" height=\"110px\" width=\"100%\"></iframe>"
      ],
      "text/plain": [
       "<plotly.tools.PlotlyDisplay object>"
      ]
     },
     "execution_count": 80,
     "metadata": {},
     "output_type": "execute_result"
    }
   ],
   "source": [
    "twosample_results_debt_v_revenue = stats.ttest_ind(float_debt_2015, float_revenue_2015, equal_var=False)\n",
    "matrix_twosample_debt_v_revenue = [\n",
    "    ['Debt 2015 v Debt 2016', 'Test Statistic', 'p-value'],\n",
    "    ['Sample Data', twosample_results_debt_v_revenue[0], twosample_results_debt_v_revenue[1]]\n",
    "]\n",
    "\n",
    "twosample_table_debt_v_revenue = plotly.figure_factory.create_table(matrix_twosample_debt_v_revenue, index=True)\n",
    "py.iplot(twosample_table_debt_v_revenue, filename='twosample-table_debt_v_revenue')"
   ]
  },
  {
   "cell_type": "code",
   "execution_count": 81,
   "metadata": {},
   "outputs": [
    {
     "data": {
      "text/plain": [
       "<matplotlib.legend.Legend at 0x1a1922b5c0>"
      ]
     },
     "execution_count": 81,
     "metadata": {},
     "output_type": "execute_result"
    },
    {
     "data": {
      "image/png": "[encoded data removed]",
      "text/plain": [
       "<Figure size 432x288 with 1 Axes>"
      ]
     },
     "metadata": {
      "needs_background": "light"
     },
     "output_type": "display_data"
    }
   ],
   "source": [
    "plt.subplot(2, 1, 1)\n",
    "plt.scatter(range(len(float_debt_2015)), float_debt_2015, label=\"Debt 2015\")\n",
    "plt.scatter(range(len(float_revenue_2015)), float_revenue_2015, label=\"Revenue 2015\")\n",
    "plt.legend()"
   ]
  }
 ],
 "metadata": {
  "kernelspec": {
   "display_name": "Python 3",
   "language": "python",
   "name": "python3"
  },
  "language_info": {
   "codemirror_mode": {
    "name": "ipython",
    "version": 3
   },
   "file_extension": ".py",
   "mimetype": "text/x-python",
   "name": "python",
   "nbconvert_exporter": "python",
   "pygments_lexer": "ipython3",
   "version": "3.7.0"
  }
 },
 "nbformat": 4,
 "nbformat_minor": 2
}
