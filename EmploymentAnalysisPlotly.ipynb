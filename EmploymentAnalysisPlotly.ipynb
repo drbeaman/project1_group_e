{
 "cells": [
  {
   "cell_type": "markdown",
   "metadata": {},
   "source": [
    "# US Employment Heatmap"
   ]
  },
  {
   "cell_type": "markdown",
   "metadata": {},
   "source": [
    "This notebook takes Census data on employment by state in 2015, then heatmaps it onto a US map.\n",
    "It uses geopandas, as well as pandas and matplotlib.\n",
    "In order to run, first pip install geopandas, then the descartes package."
   ]
  },
  {
   "cell_type": "code",
   "execution_count": 1,
   "metadata": {},
   "outputs": [],
   "source": [
    "import pandas as pd\n",
    "import numpy as np\n",
    "import requests\n",
    "import plotly\n",
    "plotly.tools.set_credentials_file\n",
    "from matplotlib import pyplot as plt\n",
    "\n",
    "# note: will need to pip install geopandas and descartes\n",
    "\n",
    "# define path for source csv file\n",
    "source_file_2015 = 'Resources/employment/ACS_15_5YR_S2301_with_ann.csv'\n",
    "\n",
    "# path for map shapefile\n",
    "fp = 'Resources/states_21basic/states.shp'"
   ]
  },
  {
   "cell_type": "markdown",
   "metadata": {},
   "source": [
    "### Read and clean shapefile as geopandas geodataframe."
   ]
  },
  {
   "cell_type": "code",
   "execution_count": 2,
   "metadata": {},
   "outputs": [
    {
     "data": {
      "text/plain": [
       "geopandas.geodataframe.GeoDataFrame"
      ]
     },
     "execution_count": 2,
     "metadata": {},
     "output_type": "execute_result"
    }
   ],
   "source": [
    "# read in shapefile for us map, confirm its type\n",
    "\n",
    "map_df= gpd.read_file(fp)\n",
    "type(map_df)"
   ]
  },
  {
   "cell_type": "markdown",
   "metadata": {},
   "source": [
    "Remove Alaska & Hawaii from geoframe so as to only show continental US."
   ]
  },
  {
   "cell_type": "code",
   "execution_count": 3,
   "metadata": {},
   "outputs": [
    {
     "name": "stdout",
     "output_type": "stream",
     "text": [
      "Rows before dropping Alaska & Hawaii:  51\n",
      "Rows after dropping Alaska & Hawaii:  49\n"
     ]
    }
   ],
   "source": [
    "# print # of rows\n",
    "print(f'Rows before dropping Alaska & Hawaii:  {map_df.STATE_NAME.count()}')\n",
    "\n",
    "# drop Alaska and Hawaii\n",
    "map_df = map_df.drop(index=0)\n",
    "map_df = map_df.drop(index=50)\n",
    "\n",
    "# print # of rows\n",
    "print(f'Rows after dropping Alaska & Hawaii:  {map_df.STATE_NAME.count()}')"
   ]
  },
  {
   "cell_type": "code",
   "execution_count": 4,
   "metadata": {},
   "outputs": [
    {
     "data": {
      "text/html": [
       "<div>\n",
       "<style scoped>\n",
       "    .dataframe tbody tr th:only-of-type {\n",
       "        vertical-align: middle;\n",
       "    }\n",
       "\n",
       "    .dataframe tbody tr th {\n",
       "        vertical-align: top;\n",
       "    }\n",
       "\n",
       "    .dataframe thead th {\n",
       "        text-align: right;\n",
       "    }\n",
       "</style>\n",
       "<table border=\"1\" class=\"dataframe\">\n",
       "  <thead>\n",
       "    <tr style=\"text-align: right;\">\n",
       "      <th></th>\n",
       "      <th>STATE_NAME</th>\n",
       "      <th>DRAWSEQ</th>\n",
       "      <th>STATE_FIPS</th>\n",
       "      <th>SUB_REGION</th>\n",
       "      <th>STATE_ABBR</th>\n",
       "      <th>geometry</th>\n",
       "    </tr>\n",
       "  </thead>\n",
       "  <tbody>\n",
       "    <tr>\n",
       "      <th>1</th>\n",
       "      <td>Washington</td>\n",
       "      <td>2</td>\n",
       "      <td>53</td>\n",
       "      <td>Pacific</td>\n",
       "      <td>WA</td>\n",
       "      <td>(POLYGON ((-122.4020153103835 48.2252163723779...</td>\n",
       "    </tr>\n",
       "    <tr>\n",
       "      <th>2</th>\n",
       "      <td>Montana</td>\n",
       "      <td>3</td>\n",
       "      <td>30</td>\n",
       "      <td>Mountain</td>\n",
       "      <td>MT</td>\n",
       "      <td>POLYGON ((-111.4754253002074 44.70216236909688...</td>\n",
       "    </tr>\n",
       "  </tbody>\n",
       "</table>\n",
       "</div>"
      ],
      "text/plain": [
       "   STATE_NAME  DRAWSEQ STATE_FIPS SUB_REGION STATE_ABBR  \\\n",
       "1  Washington        2         53    Pacific         WA   \n",
       "2     Montana        3         30   Mountain         MT   \n",
       "\n",
       "                                            geometry  \n",
       "1  (POLYGON ((-122.4020153103835 48.2252163723779...  \n",
       "2  POLYGON ((-111.4754253002074 44.70216236909688...  "
      ]
     },
     "execution_count": 4,
     "metadata": {},
     "output_type": "execute_result"
    }
   ],
   "source": [
    "# print head\n",
    "map_df.head(2)"
   ]
  },
  {
   "cell_type": "code",
   "execution_count": 5,
   "metadata": {},
   "outputs": [
    {
     "data": {
      "text/plain": [
       "<matplotlib.axes._subplots.AxesSubplot at 0x1174ab438>"
      ]
     },
     "execution_count": 5,
     "metadata": {},
     "output_type": "execute_result"
    },
    {
     "data": {
      "image/png": "[encoded data removed]",
      "text/plain": [
       "<Figure size 432x288 with 1 Axes>"
      ]
     },
     "metadata": {},
     "output_type": "display_data"
    }
   ],
   "source": [
    "# preview map file\n",
    "map_df.plot()"
   ]
  },
  {
   "cell_type": "markdown",
   "metadata": {},
   "source": [
    "### Read and clean employment data."
   ]
  },
  {
   "cell_type": "code",
   "execution_count": 6,
   "metadata": {},
   "outputs": [],
   "source": [
    "# read csv file into dataframe\n",
    "data_2015 = pd.read_csv(source_file_2015)"
   ]
  },
  {
   "cell_type": "code",
   "execution_count": 7,
   "metadata": {},
   "outputs": [
    {
     "data": {
      "text/html": [
       "<div>\n",
       "<style scoped>\n",
       "    .dataframe tbody tr th:only-of-type {\n",
       "        vertical-align: middle;\n",
       "    }\n",
       "\n",
       "    .dataframe tbody tr th {\n",
       "        vertical-align: top;\n",
       "    }\n",
       "\n",
       "    .dataframe thead th {\n",
       "        text-align: right;\n",
       "    }\n",
       "</style>\n",
       "<table border=\"1\" class=\"dataframe\">\n",
       "  <thead>\n",
       "    <tr style=\"text-align: right;\">\n",
       "      <th></th>\n",
       "      <th>State</th>\n",
       "      <th>Employment</th>\n",
       "    </tr>\n",
       "  </thead>\n",
       "  <tbody>\n",
       "    <tr>\n",
       "      <th>1</th>\n",
       "      <td>Alabama</td>\n",
       "      <td>58.3</td>\n",
       "    </tr>\n",
       "    <tr>\n",
       "      <th>2</th>\n",
       "      <td>Alaska</td>\n",
       "      <td>70.6</td>\n",
       "    </tr>\n",
       "  </tbody>\n",
       "</table>\n",
       "</div>"
      ],
      "text/plain": [
       "     State Employment\n",
       "1  Alabama       58.3\n",
       "2   Alaska       70.6"
      ]
     },
     "execution_count": 7,
     "metadata": {},
     "output_type": "execute_result"
    }
   ],
   "source": [
    "# choose the two columns to keep\n",
    "data_2015 = data_2015[['GEO.display-label','HC02_EST_VC01']]\n",
    "\n",
    "# drop gratuitious header line\n",
    "data_2015 = data_2015.drop(data_2015.index[0])\n",
    "\n",
    "# rename columns \n",
    "data_2015.columns = ['State', 'Employment']\n",
    "\n",
    "# show sample of final dataframe\n",
    "data_2015.head(2)\n"
   ]
  },
  {
   "cell_type": "markdown",
   "metadata": {},
   "source": [
    "### Combine pandas dataframe with employment data and map geodataframe to create new geodataframe."
   ]
  },
  {
   "cell_type": "code",
   "execution_count": 8,
   "metadata": {},
   "outputs": [
    {
     "data": {
      "text/html": [
       "<div>\n",
       "<style scoped>\n",
       "    .dataframe tbody tr th:only-of-type {\n",
       "        vertical-align: middle;\n",
       "    }\n",
       "\n",
       "    .dataframe tbody tr th {\n",
       "        vertical-align: top;\n",
       "    }\n",
       "\n",
       "    .dataframe thead th {\n",
       "        text-align: right;\n",
       "    }\n",
       "</style>\n",
       "<table border=\"1\" class=\"dataframe\">\n",
       "  <thead>\n",
       "    <tr style=\"text-align: right;\">\n",
       "      <th></th>\n",
       "      <th>DRAWSEQ</th>\n",
       "      <th>STATE_FIPS</th>\n",
       "      <th>SUB_REGION</th>\n",
       "      <th>STATE_ABBR</th>\n",
       "      <th>geometry</th>\n",
       "      <th>Employment</th>\n",
       "    </tr>\n",
       "    <tr>\n",
       "      <th>STATE_NAME</th>\n",
       "      <th></th>\n",
       "      <th></th>\n",
       "      <th></th>\n",
       "      <th></th>\n",
       "      <th></th>\n",
       "      <th></th>\n",
       "    </tr>\n",
       "  </thead>\n",
       "  <tbody>\n",
       "    <tr>\n",
       "      <th>Washington</th>\n",
       "      <td>2</td>\n",
       "      <td>53</td>\n",
       "      <td>Pacific</td>\n",
       "      <td>WA</td>\n",
       "      <td>(POLYGON ((-122.4020153103835 48.2252163723779...</td>\n",
       "      <td>64.4</td>\n",
       "    </tr>\n",
       "    <tr>\n",
       "      <th>Montana</th>\n",
       "      <td>3</td>\n",
       "      <td>30</td>\n",
       "      <td>Mountain</td>\n",
       "      <td>MT</td>\n",
       "      <td>POLYGON ((-111.4754253002074 44.70216236909688...</td>\n",
       "      <td>64.0</td>\n",
       "    </tr>\n",
       "  </tbody>\n",
       "</table>\n",
       "</div>"
      ],
      "text/plain": [
       "            DRAWSEQ STATE_FIPS SUB_REGION STATE_ABBR  \\\n",
       "STATE_NAME                                             \n",
       "Washington        2         53    Pacific         WA   \n",
       "Montana           3         30   Mountain         MT   \n",
       "\n",
       "                                                     geometry Employment  \n",
       "STATE_NAME                                                                \n",
       "Washington  (POLYGON ((-122.4020153103835 48.2252163723779...       64.4  \n",
       "Montana     POLYGON ((-111.4754253002074 44.70216236909688...       64.0  "
      ]
     },
     "execution_count": 8,
     "metadata": {},
     "output_type": "execute_result"
    }
   ],
   "source": [
    "# create geodataframe with map data + employment data\n",
    "merged = map_df.set_index('STATE_NAME').join(data_2015.set_index('State'))\n",
    "merged.head(2)"
   ]
  },
  {
   "cell_type": "markdown",
   "metadata": {},
   "source": [
    "### Create map."
   ]
  },
  {
   "cell_type": "code",
   "execution_count": 9,
   "metadata": {},
   "outputs": [
    {
     "data": {
      "image/png": "[encoded data removed]",
      "text/plain": [
       "<Figure size 720x432 with 2 Axes>"
      ]
     },
     "metadata": {},
     "output_type": "display_data"
    }
   ],
   "source": [
    "# set a variable that will call whatever column we want to visualise on the map\n",
    "variable = 'Employment'\n",
    "\n",
    "# set the range for the choropleth\n",
    "vmin, vmax = 43, 72\n",
    "\n",
    "# create figure and axes for Matplotlib\n",
    "fig, ax = plt.subplots(1, figsize=(10, 6))\n",
    "\n",
    "# create map\n",
    "merged.plot(column=variable, cmap='Blues', linewidth=0.8, ax=ax, edgecolor='0.8')\n",
    "\n",
    "# Now we can customise and add annotations\n",
    "\n",
    "# remove the axis\n",
    "ax.axis('off')\n",
    "\n",
    "# add a title\n",
    "ax.set_title('Employment in US States', \\\n",
    "              fontdict={'fontsize': '25',\n",
    "                        'fontweight' : '3'})\n",
    "\n",
    "# create an annotation for the  data source\n",
    "ax.annotate('Source: US Censuas Data',\n",
    "           xy=(0.1, .08), xycoords='figure fraction',\n",
    "           horizontalalignment='left', verticalalignment='top',\n",
    "           fontsize=10, color='#555555')\n",
    "\n",
    "# Create colorbar as a legend\n",
    "sm = plt.cm.ScalarMappable(cmap='Blues', norm=plt.Normalize(vmin=vmin, vmax=vmax))\n",
    "sm._A = []\n",
    "cbar = fig.colorbar(sm)\n",
    "\n",
    "# this will save the figure as a high-res png. you can also save as svg\n",
    "fig.savefig('employment_heatmap.png', dpi=300)\n",
    "\n"
   ]
  }
 ],
 "metadata": {
  "kernelspec": {
   "display_name": "Python 3",
   "language": "python",
   "name": "python3"
  },
  "language_info": {
   "codemirror_mode": {
    "name": "ipython",
    "version": 3
   },
   "file_extension": ".py",
   "mimetype": "text/x-python",
   "name": "python",
   "nbconvert_exporter": "python",
   "pygments_lexer": "ipython3",
   "version": "3.6.5"
  }
 },
 "nbformat": 4,
 "nbformat_minor": 2
}
