{
 "cells": [
  {
   "cell_type": "code",
   "execution_count": 9,
   "metadata": {},
   "outputs": [],
   "source": [
    "#import sys\n",
    "#!{sys.executable} -m pip install matplotlib\n",
    "#!{sys.executable} -m pip install numpy\n",
    "#!{sys.executable} -m pip install pandas\n",
    "#!{sys.executable} -m pip install seaborn"
   ]
  },
  {
   "cell_type": "code",
   "execution_count": 10,
   "metadata": {},
   "outputs": [],
   "source": [
    "import pandas as pd\n",
    "import numpy as np\n",
    "import matplotlib.pyplot as plt\n",
    "import csv\n",
    "import os\n",
    "#import json\n",
    "import seaborn"
   ]
  },
  {
   "cell_type": "code",
   "execution_count": 11,
   "metadata": {},
   "outputs": [
    {
     "data": {
      "text/html": [
       "<div>\n",
       "<style scoped>\n",
       "    .dataframe tbody tr th:only-of-type {\n",
       "        vertical-align: middle;\n",
       "    }\n",
       "\n",
       "    .dataframe tbody tr th {\n",
       "        vertical-align: top;\n",
       "    }\n",
       "\n",
       "    .dataframe thead th {\n",
       "        text-align: right;\n",
       "    }\n",
       "</style>\n",
       "<table border=\"1\" class=\"dataframe\">\n",
       "  <thead>\n",
       "    <tr style=\"text-align: right;\">\n",
       "      <th></th>\n",
       "      <th>(Thousands of Dollars)</th>\n",
       "      <th>Total revenue</th>\n",
       "      <th>Interest on general debt</th>\n",
       "      <th>Debt at end of fiscal year</th>\n",
       "    </tr>\n",
       "  </thead>\n",
       "  <tbody>\n",
       "    <tr>\n",
       "      <th>0</th>\n",
       "      <td>United States</td>\n",
       "      <td>2,136,635,006</td>\n",
       "      <td>44,623,911</td>\n",
       "      <td>1,160,488,556</td>\n",
       "    </tr>\n",
       "    <tr>\n",
       "      <th>1</th>\n",
       "      <td>Alabama</td>\n",
       "      <td>30,172,490</td>\n",
       "      <td>338,355</td>\n",
       "      <td>8,667,105</td>\n",
       "    </tr>\n",
       "    <tr>\n",
       "      <th>2</th>\n",
       "      <td>Alaska</td>\n",
       "      <td>8,071,732</td>\n",
       "      <td>181,709</td>\n",
       "      <td>5,953,933</td>\n",
       "    </tr>\n",
       "    <tr>\n",
       "      <th>3</th>\n",
       "      <td>Arizona</td>\n",
       "      <td>38,232,376</td>\n",
       "      <td>637,325</td>\n",
       "      <td>14,400,191</td>\n",
       "    </tr>\n",
       "    <tr>\n",
       "      <th>4</th>\n",
       "      <td>Arkansas</td>\n",
       "      <td>21,439,227</td>\n",
       "      <td>130,905</td>\n",
       "      <td>4,828,756</td>\n",
       "    </tr>\n",
       "  </tbody>\n",
       "</table>\n",
       "</div>"
      ],
      "text/plain": [
       "  (Thousands of Dollars)  Total revenue Interest on general debt  \\\n",
       "0          United States  2,136,635,006               44,623,911   \n",
       "1                Alabama     30,172,490                  338,355   \n",
       "2                 Alaska      8,071,732                  181,709   \n",
       "3                Arizona     38,232,376                  637,325   \n",
       "4               Arkansas     21,439,227                  130,905   \n",
       "\n",
       "  Debt at end of fiscal year  \n",
       "0              1,160,488,556  \n",
       "1                  8,667,105  \n",
       "2                  5,953,933  \n",
       "3                 14,400,191  \n",
       "4                  4,828,756  "
      ]
     },
     "execution_count": 11,
     "metadata": {},
     "output_type": "execute_result"
    }
   ],
   "source": [
    "file = \"../Desktop/state_debt_test_2016.csv\"\n",
    "data = pd.read_csv(file)\n",
    "data.head()"
   ]
  },
  {
   "cell_type": "code",
   "execution_count": 12,
   "metadata": {},
   "outputs": [],
   "source": [
    "revenue = []\n",
    "debt = []\n",
    "interest = []\n",
    "states = []\n",
    "\n",
    "with open(file, 'r') as csvfile:\n",
    "    csvreader = csv.reader(csvfile)\n",
    "    next(csvreader)\n",
    "    for row in csvreader:\n",
    "        states.append(row[0])\n",
    "        revenue.append(row[1])\n",
    "        interest.append((row[2]))\n",
    "        debt.append(row[3])\n",
    "\n",
    "total_states = len(states)\n",
    "max_revenue = revenue[0]\n",
    "min_revenue = revenue[0]\n",
    "max_debt = debt[0]\n",
    "min_debt = debt[0]\n",
    "totalProfits = 0"
   ]
  },
  {
   "cell_type": "code",
   "execution_count": null,
   "metadata": {},
   "outputs": [],
   "source": []
  }
 ],
 "metadata": {
  "kernelspec": {
   "display_name": "Python 3",
   "language": "python",
   "name": "python3"
  },
  "language_info": {
   "codemirror_mode": {
    "name": "ipython",
    "version": 3
   },
   "file_extension": ".py",
   "mimetype": "text/x-python",
   "name": "python",
   "nbconvert_exporter": "python",
   "pygments_lexer": "ipython3",
   "version": "3.7.0"
  }
 },
 "nbformat": 4,
 "nbformat_minor": 2
}
