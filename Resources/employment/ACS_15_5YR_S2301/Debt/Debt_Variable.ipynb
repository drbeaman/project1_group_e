{
 "cells": [
  {
   "cell_type": "code",
   "execution_count": 139,
   "metadata": {},
   "outputs": [],
   "source": [
    "import pandas as pd\n",
    "import numpy as np\n",
    "import matplotlib.pyplot as plt\n",
    "import csv\n",
    "import os\n",
    "import seaborn\n",
    "import plotly\n",
    "import plotly.plotly as py\n",
    "import plotly.graph_objs as go\n",
    "import scipy.stats as stats\n",
    "from plotly.tools import FigureFactory as FF\n",
    "from mpl_toolkits.basemap import Basemap as Basemap\n",
    "from matplotlib.colors import rgb2hex\n",
    "from matplotlib.patches import Polygon\n",
    "plotly.tools.set_credentials_file(username='ThisIsDNa', api_key='DUwIm8Ia6mwSF2mqa9GC')"
   ]
  },
  {
   "cell_type": "code",
   "execution_count": 155,
   "metadata": {},
   "outputs": [],
   "source": [
    "file = \"../Desktop/debt_variable_2015.csv\"\n",
    "data = pd.read_csv(file)"
   ]
  },
  {
   "cell_type": "code",
   "execution_count": 156,
   "metadata": {},
   "outputs": [
    {
     "data": {
      "text/html": [
       "<div>\n",
       "<style scoped>\n",
       "    .dataframe tbody tr th:only-of-type {\n",
       "        vertical-align: middle;\n",
       "    }\n",
       "\n",
       "    .dataframe tbody tr th {\n",
       "        vertical-align: top;\n",
       "    }\n",
       "\n",
       "    .dataframe thead th {\n",
       "        text-align: right;\n",
       "    }\n",
       "</style>\n",
       "<table border=\"1\" class=\"dataframe\">\n",
       "  <thead>\n",
       "    <tr style=\"text-align: right;\">\n",
       "      <th></th>\n",
       "      <th>code</th>\n",
       "      <th>State</th>\n",
       "      <th>Debt at end of fiscal year</th>\n",
       "    </tr>\n",
       "  </thead>\n",
       "  <tbody>\n",
       "    <tr>\n",
       "      <th>0</th>\n",
       "      <td></td>\n",
       "      <td>United States</td>\n",
       "      <td>1150140105</td>\n",
       "    </tr>\n",
       "    <tr>\n",
       "      <th>1</th>\n",
       "      <td>AL</td>\n",
       "      <td>Alabama</td>\n",
       "      <td>9125828</td>\n",
       "    </tr>\n",
       "    <tr>\n",
       "      <th>2</th>\n",
       "      <td>AK</td>\n",
       "      <td>Alaska</td>\n",
       "      <td>5727891</td>\n",
       "    </tr>\n",
       "    <tr>\n",
       "      <th>3</th>\n",
       "      <td>AZ</td>\n",
       "      <td>Arizona</td>\n",
       "      <td>14243659</td>\n",
       "    </tr>\n",
       "    <tr>\n",
       "      <th>4</th>\n",
       "      <td>AR</td>\n",
       "      <td>Arkansas</td>\n",
       "      <td>4985140</td>\n",
       "    </tr>\n",
       "  </tbody>\n",
       "</table>\n",
       "</div>"
      ],
      "text/plain": [
       "  code          State  Debt at end of fiscal year\n",
       "0       United States                  1150140105\n",
       "1   AL        Alabama                     9125828\n",
       "2   AK         Alaska                     5727891\n",
       "3   AZ        Arizona                    14243659\n",
       "4   AR       Arkansas                     4985140"
      ]
     },
     "execution_count": 156,
     "metadata": {},
     "output_type": "execute_result"
    }
   ],
   "source": [
    "new_col = ['', 'AL', 'AK', 'AZ', 'AR', 'CA', 'CO', 'CT', 'DE', 'FL', 'GA',\n",
    "           'HI', 'ID', 'IL', 'IN', 'IA', 'KS', 'KY',\n",
    "           'LA', 'ME', 'MD', 'MA', 'MI', 'MN', 'MS', 'MO', 'MT', 'NE',\n",
    "           'NV', 'NH', 'NJ', 'NM', 'NY', 'NC', 'ND', 'OH', 'OK',\n",
    "           'OR', 'PA', 'RI', 'SC', 'SD', 'TN', 'TX', 'UT', 'VT', 'VA',\n",
    "           'WA', 'WV', 'WI', 'WY']\n",
    "\n",
    "data.insert(0, 'code', new_col)\n",
    "data.head()"
   ]
  },
  {
   "cell_type": "code",
   "execution_count": 157,
   "metadata": {},
   "outputs": [],
   "source": [
    "total_states = len(states)\n",
    "debt_states = states[0]\n",
    "max_debt = debt[0]\n",
    "min_debt = debt[0]\n",
    "debt = []\n",
    "states = []\n",
    "total_debt = data.iloc[0]['Debt at end of fiscal year']"
   ]
  },
  {
   "cell_type": "code",
   "execution_count": 158,
   "metadata": {},
   "outputs": [],
   "source": [
    "with open(file, 'r') as csvfile:\n",
    "    csvreader = csv.reader(csvfile)\n",
    "    next(csvreader)\n",
    "    next(csvreader)\n",
    "    for row in csvreader:\n",
    "        states.append(row[0])\n",
    "        debt.append(row[1])"
   ]
  },
  {
   "cell_type": "code",
   "execution_count": 159,
   "metadata": {},
   "outputs": [],
   "source": [
    "for x in range(len(debt)):\n",
    "    if debt[x] >= max_debt:\n",
    "        max_debt = debt[x]\n",
    "        max_debt_state = states[x]\n",
    "    if debt[x] <= min_debt:\n",
    "        min_debt = debt[x]\n",
    "        min_debt_state = states[x]"
   ]
  },
  {
   "cell_type": "code",
   "execution_count": 160,
   "metadata": {},
   "outputs": [],
   "source": [
    "scl = [[0.0, 'rgb(244, 66, 66)'],[0.2, 'rgb(244, 244, 65)'],[0.4, 'rgb(188,189,220)'],\\\n",
    "       [0.6, 'rgb(244, 244, 65)'],[0.8, 'rgb(91, 244, 65)'],[1.0, 'rgb(65, 157, 244)']]\n",
    "\n",
    "figure = [ dict(\n",
    "                type='choropleth',\n",
    "                colorscale = scl,\n",
    "                autocolorscale = False,\n",
    "                locations = data['code'],\n",
    "                z = data['Debt at end of fiscal year'].astype(float),\n",
    "                locationmode = 'USA-states',\n",
    "                text = states,\n",
    "                marker = dict(\n",
    "                         line = dict (\n",
    "                        color = 'rgb(255,255,255)',\n",
    "                        width = 2) ),\n",
    "                colorbar = dict(\n",
    "                title = 'Millions USD',\n",
    "                )\n",
    "                )]\n",
    "#            titleside = 'top',\n",
    "#            tickmode = 'array',\n",
    "#            tickvals = [2, 25, 50, 65, 80, 100],\n",
    "#            ticktext = ['1000000', '2500000', '5000000', \n",
    "#                        '6500000', '8000000', '10000000'],\n",
    "#            ticks = 'outside'        \n",
    "#        )\n",
    "#        ) ]\n"
   ]
  },
  {
   "cell_type": "code",
   "execution_count": 161,
   "metadata": {},
   "outputs": [],
   "source": [
    "layout = dict(\n",
    "        title = '2015 US Debt by State',\n",
    "        geo = dict(\n",
    "            scope='usa',\n",
    "            projection=dict( type='albers usa' ),\n",
    "            showlakes = True,\n",
    "            lakecolor = 'rgb(255, 255, 255)'),\n",
    "             )"
   ]
  },
  {
   "cell_type": "code",
   "execution_count": 162,
   "metadata": {},
   "outputs": [
    {
     "name": "stdout",
     "output_type": "stream",
     "text": [
      "High five! You successfully sent some data to your account on plotly. View your plot in your browser at https://plot.ly/~ThisIsDNa/0 or inside your plot.ly account where it is named 'd3-cloropleth-map'\n"
     ]
    },
    {
     "data": {
      "text/html": [
       "<iframe id=\"igraph\" scrolling=\"no\" style=\"border:none;\" seamless=\"seamless\" src=\"https://plot.ly/~ThisIsDNa/0.embed\" height=\"525px\" width=\"100%\"></iframe>"
      ],
      "text/plain": [
       "<plotly.tools.PlotlyDisplay object>"
      ]
     },
     "execution_count": 162,
     "metadata": {},
     "output_type": "execute_result"
    }
   ],
   "source": [
    "py.iplot( figure, filename='d3-cloropleth-map' )"
   ]
  },
  {
   "cell_type": "code",
   "execution_count": 163,
   "metadata": {},
   "outputs": [],
   "source": [
    "data.drop(data.index[0])\n",
    "avg_debt = total_debt/total_states\n",
    "\n",
    "avg_analysis = pd.DataFrame({\"Number of States\": [total_states],\n",
    "                              \"Average Debt per State\": [avg_debt]},\n",
    "                     columns= [\"Number of States\",\n",
    "                               \"Average Debt per State\"])\n",
    "\n",
    "debt_analysis = pd.DataFrame({\"State with most debt\": [max_debt_state],\n",
    "                               \"Most Debt Amount\": [max_debt],\n",
    "                               \"State with least debt\": [min_debt_state],\n",
    "                               \"Least Debt Amount\": [min_debt]},\n",
    "                             columns = [\"State with most debt\",\n",
    "                                        \"Most Debt Amount\",\n",
    "                                        \"State with least debt\",\n",
    "                                        \"Least Debt Amount\"])"
   ]
  },
  {
   "cell_type": "code",
   "execution_count": 164,
   "metadata": {},
   "outputs": [],
   "source": [
    "ne_region = []\n",
    "ne_region = data.loc[data['State'].isin(['Connecticut', 'Maine', 'Massachusetts', \"New Hampshire\",\n",
    "                                         'Rhode Island', 'Vermont', 'New Jersey', 'New York', 'Pennsylvania'])]\n",
    "mw_region = []\n",
    "mw_region = data.loc[data['State'].isin(['Illinois', 'Indiana', 'Michigan', 'Ohio', 'Wisconsin',\n",
    "                                         'Iowa', 'Kansas', 'Minnesota','Missouri', 'Nebraska',\n",
    "                                         'North Dakota', 'South Dakota'])]\n",
    "\n",
    "s_region = []\n",
    "s_region = data.loc[data['State'].isin(['Delaware', 'Florida', 'Georgia', 'Maryland', 'North Carolina',\n",
    "                                        'South Carolina', 'Virginia', 'West Virginia', 'Alabama', 'Kentucky',\n",
    "                                        'Mississippi', 'Tennessee', 'Arkansas', 'Louisiana', 'Oklahoma',\n",
    "                                        'Texas'])]\n",
    "\n",
    "w_region = []\n",
    "w_region = data.loc[data['State'].isin(['Arizona', 'Colorado', 'Idaho', 'Montana', 'Nevada',\n",
    "                                        'New Mexico', 'Utah', 'Wyoming', 'Alaska', 'California',\n",
    "                                        'Hawaii', 'Oregon', 'Washington'])]"
   ]
  },
  {
   "cell_type": "code",
   "execution_count": 165,
   "metadata": {},
   "outputs": [],
   "source": [
    "ne_region_total = 0\n",
    "mw_region_total = 0\n",
    "s_region_total = 0\n",
    "w_region_total = 0\n",
    "ne_debt = 0\n",
    "mw_debt = 0\n",
    "s_debt = 0\n",
    "w_debt = 0\n",
    "\n",
    "ne_region_total = len(ne_region)\n",
    "mw_region_total = len (mw_region)\n",
    "s_region_total = len(s_region)\n",
    "w_region_total = len(w_region)\n",
    "\n",
    "ne_debt_total = ne_region['Debt at end of fiscal year'].sum()\n",
    "mw_debt_total = ne_region['Debt at end of fiscal year'].sum()\n",
    "s_debt_total = ne_region['Debt at end of fiscal year'].sum()\n",
    "w_debt_total = ne_region['Debt at end of fiscal year'].sum()\n",
    "\n",
    "ne_debt_avg = ne_debt/ne_region_total\n",
    "mw_debt_avg = mw_debt/mw_region_total\n",
    "s_debt_avg = s_debt/s_region_total\n",
    "w_debt_avg = w_debt/w_region_total"
   ]
  },
  {
   "cell_type": "code",
   "execution_count": 129,
   "metadata": {},
   "outputs": [],
   "source": [
    "#Figure out how to t-test by using the US as the population mean and the specific regions as sample means\n",
    "\n",
    "#plt.subplot(2, 1, 2)\n",
    "#plt.hist(states, 20, density=True, alpha=0.7, label=\"population\")\n",
    "#plt.hist(ne_region, 20, density=True, alpha=0.7, label=\"sample\")\n",
    "#plt.axvline(data.mean(), color='k', linestyle='dashed', linewidth=1)\n",
    "#plt.axvline(ne_region.mean(), color='k', linestyle='dashed', linewidth=1)\n",
    "#plt.legend()\n",
    "\n",
    "#stats.ttest_1samp(ne_debt_avg, avg_debt)"
   ]
  }
 ],
 "metadata": {
  "kernelspec": {
   "display_name": "Python 3",
   "language": "python",
   "name": "python3"
  },
  "language_info": {
   "codemirror_mode": {
    "name": "ipython",
    "version": 3
   },
   "file_extension": ".py",
   "mimetype": "text/x-python",
   "name": "python",
   "nbconvert_exporter": "python",
   "pygments_lexer": "ipython3",
   "version": "3.7.0"
  }
 },
 "nbformat": 4,
 "nbformat_minor": 2
}
